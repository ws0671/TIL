{
 "cells": [
  {
   "cell_type": "code",
   "execution_count": 95,
   "id": "checked-filter",
   "metadata": {},
   "outputs": [
    {
     "name": "stdout",
     "output_type": "stream",
     "text": [
      "you change the choice?sf\n",
      "car!\n"
     ]
    }
   ],
   "source": [
    "import random\n",
    "\n",
    "doors = [0,0,1]\n",
    "\n",
    "choice = random.choice(doors)\n",
    "goat1 = doors[0]\n",
    "goat2 = doors[1]\n",
    "car = doors[2]\n",
    "if choice == goat1 or goat2:\n",
    "    guess = input('you change the choice?')\n",
    "    if guess == 'Y' or 'y':\n",
    "        print('car!')\n",
    "    elif guess == 'N' or 'n':\n",
    "        print('goat!')\n",
    "    else:\n",
    "        print('wrong answer')\n",
    "        \n",
    "if choice == car:\n",
    "    guess = input('you change the choice?')\n",
    "    if guess == 'Y' or 'y':\n",
    "        print('goat!')\n",
    "    elif guess == 'N' or 'n':\n",
    "        print('car!')\n",
    "    else:\n",
    "        print('wrong answer')"
   ]
  },
  {
   "cell_type": "code",
   "execution_count": 149,
   "id": "loved-bride",
   "metadata": {},
   "outputs": [
    {
     "name": "stdout",
     "output_type": "stream",
     "text": [
      "Number of executions: 100\n",
      "Are you change the choice?(y/n): e\n",
      "wrong answer\n",
      "0.0%\n"
     ]
    }
   ],
   "source": [
    "#Monty hall problem\n",
    "import random \n",
    "\n",
    "doors = [0,0,1]\n",
    "count=0\n",
    "play = int(input(\"Number of executions: \"))\n",
    "q = input(\"Are you change the choice?(y/n): \")\n",
    "if q == 'y' :\n",
    "    for i in range(1,play+1):\n",
    "        choice = random.choice(doors)\n",
    "        if choice == 0:\n",
    "            print('car')\n",
    "            count+=1\n",
    "        else: \n",
    "            print('goat')\n",
    "elif q == 'n' :\n",
    "     for i in range(1,play+1):\n",
    "        choice = random.choice(doors)\n",
    "        if choice == 0:\n",
    "            print('goat')\n",
    "            \n",
    "        else: \n",
    "            print('car')\n",
    "            count+=1\n",
    "else : \n",
    "    print('wrong answer')\n",
    "\n",
    "print(str(count/play*100)+'%')\n",
    "\n",
    "\n",
    "        "
   ]
  },
  {
   "cell_type": "code",
   "execution_count": 94,
   "id": "apparent-cookie",
   "metadata": {},
   "outputs": [
    {
     "name": "stdout",
     "output_type": "stream",
     "text": [
      "Number of execitions: 100\n",
      "goat!\n",
      "goat!\n",
      "goat!\n",
      "goat!\n",
      "car!\n",
      "car!\n",
      "goat!\n",
      "goat!\n",
      "goat!\n",
      "goat!\n",
      "goat!\n",
      "goat!\n",
      "goat!\n",
      "car!\n",
      "car!\n",
      "goat!\n",
      "car!\n",
      "goat!\n",
      "goat!\n",
      "goat!\n",
      "goat!\n",
      "goat!\n",
      "car!\n",
      "goat!\n",
      "car!\n",
      "car!\n",
      "goat!\n",
      "goat!\n",
      "goat!\n",
      "car!\n",
      "car!\n",
      "goat!\n",
      "goat!\n",
      "car!\n",
      "goat!\n",
      "goat!\n",
      "goat!\n",
      "goat!\n",
      "car!\n",
      "goat!\n",
      "car!\n",
      "goat!\n",
      "goat!\n",
      "goat!\n",
      "goat!\n",
      "goat!\n",
      "car!\n",
      "goat!\n",
      "goat!\n",
      "car!\n",
      "car!\n",
      "goat!\n",
      "goat!\n",
      "car!\n",
      "goat!\n",
      "goat!\n",
      "goat!\n",
      "car!\n",
      "car!\n",
      "goat!\n",
      "goat!\n",
      "goat!\n",
      "goat!\n",
      "goat!\n",
      "goat!\n",
      "car!\n",
      "goat!\n",
      "goat!\n",
      "goat!\n",
      "car!\n",
      "goat!\n",
      "goat!\n",
      "goat!\n",
      "goat!\n",
      "car!\n",
      "goat!\n",
      "car!\n",
      "car!\n",
      "car!\n",
      "car!\n",
      "car!\n",
      "car!\n",
      "goat!\n",
      "goat!\n",
      "goat!\n",
      "goat!\n",
      "goat!\n",
      "car!\n",
      "car!\n",
      "car!\n",
      "goat!\n",
      "goat!\n",
      "car!\n",
      "car!\n",
      "goat!\n",
      "goat!\n",
      "goat!\n",
      "car!\n",
      "goat!\n",
      "goat!\n",
      "34.0%\n"
     ]
    }
   ],
   "source": [
    "import random \n",
    "\n",
    "\n",
    "doors = [0,0,1]\n",
    "\n",
    "\n",
    "goat1 = doors[0]\n",
    "goat2 = doors[1]\n",
    "car = doors[2]\n",
    "count=0\n",
    "play = int(input('Number of executions: '))\n",
    "for play in range(1,play+1):\n",
    "    choice = random.choice(doors)\n",
    "    if choice == goat1 or goat2:\n",
    "        print('goat!')\n",
    "        \n",
    "    elif choice == car:\n",
    "        print('car!')\n",
    "        count+=1\n",
    "    \n",
    "print(str(count/play*100)+'%')\n",
    "        "
   ]
  },
  {
   "cell_type": "code",
   "execution_count": 89,
   "id": "interstate-oregon",
   "metadata": {},
   "outputs": [
    {
     "name": "stdout",
     "output_type": "stream",
     "text": [
      "A: 10\n",
      "B: 3\n",
      "5\n",
      "6\n",
      "2\n",
      "12\n",
      "1\n",
      "24\n",
      "30\n"
     ]
    }
   ],
   "source": [
    "#Ethiopian Multiplication\n",
    "\n",
    "a = int(input('A: '))\n",
    "b = int(input('B: '))\n",
    "d = []\n",
    "while a!=1 :\n",
    "    a = a//2\n",
    "    b = b*2\n",
    "    print(a)\n",
    "    print(b)\n",
    "    \n",
    "    if a%2 == 1:\n",
    "        d.append(b)\n",
    "\n",
    "print(sum(d))\n"
   ]
  },
  {
   "cell_type": "markdown",
   "id": "permanent-tampa",
   "metadata": {},
   "source": [
    "# "
   ]
  },
  {
   "cell_type": "code",
   "execution_count": 87,
   "id": "north-thousand",
   "metadata": {},
   "outputs": [
    {
     "name": "stdout",
     "output_type": "stream",
     "text": [
      "9\n"
     ]
    }
   ],
   "source": [
    "d = []\n",
    "d.append(4)\n",
    "d.append(5)\n",
    "sum(d)\n",
    "print(sum(d))"
   ]
  },
  {
   "cell_type": "code",
   "execution_count": 139,
   "id": "legendary-passenger",
   "metadata": {},
   "outputs": [
    {
     "name": "stdout",
     "output_type": "stream",
     "text": [
      ": b\n",
      "nope\n"
     ]
    }
   ],
   "source": [
    "q = input(': ')\n",
    "if q == 'y' :\n",
    "    print('ok')\n",
    "else: \n",
    "    print('nope')"
   ]
  },
  {
   "cell_type": "code",
   "execution_count": null,
   "id": "regulation-ukraine",
   "metadata": {},
   "outputs": [],
   "source": []
  },
  {
   "cell_type": "code",
   "execution_count": null,
   "id": "organic-citizen",
   "metadata": {},
   "outputs": [],
   "source": []
  }
 ],
 "metadata": {
  "kernelspec": {
   "display_name": "Python 3",
   "language": "python",
   "name": "python3"
  },
  "language_info": {
   "codemirror_mode": {
    "name": "ipython",
    "version": 3
   },
   "file_extension": ".py",
   "mimetype": "text/x-python",
   "name": "python",
   "nbconvert_exporter": "python",
   "pygments_lexer": "ipython3",
   "version": "3.9.0"
  }
 },
 "nbformat": 4,
 "nbformat_minor": 5
}
