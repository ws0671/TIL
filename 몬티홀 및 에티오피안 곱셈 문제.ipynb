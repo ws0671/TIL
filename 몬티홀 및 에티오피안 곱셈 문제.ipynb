{
 "cells": [
  {
   "cell_type": "markdown",
   "id": "bound-template",
   "metadata": {},
   "source": [
    "## Monty Hall problem"
   ]
  },
  {
   "cell_type": "code",
   "execution_count": null,
   "id": "tropical-nevada",
   "metadata": {},
   "outputs": [],
   "source": [
    "import random \n",
    "\n",
    "doors = [0,0,1]\n",
    "count=0\n",
    "play = int(input(\"Number of executions: \"))\n",
    "q = input(\"Are you change the choice?(y/n): \")\n",
    "if q == 'y' :\n",
    "    for i in range(1,play+1):\n",
    "        choice = random.choice(doors)\n",
    "        if choice == 0:\n",
    "            print('car')\n",
    "            count+=1\n",
    "        else: \n",
    "            print('goat')\n",
    "elif q == 'n' :\n",
    "     for i in range(1,play+1):\n",
    "        choice = random.choice(doors)\n",
    "        if choice == 0:\n",
    "            print('goat')\n",
    "            \n",
    "        else: \n",
    "            print('car')\n",
    "            count+=1\n",
    "else : \n",
    "    print('wrong answer')\n",
    "\n",
    "print(str(count/play*100)+'%')\n",
    "\n",
    "\n",
    "        "
   ]
  },
  {
   "cell_type": "markdown",
   "id": "naval-crisis",
   "metadata": {},
   "source": [
    "## Ethiopian Multiplication"
   ]
  },
  {
   "cell_type": "code",
   "execution_count": 89,
   "id": "interstate-oregon",
   "metadata": {},
   "outputs": [
    {
     "name": "stdout",
     "output_type": "stream",
     "text": [
      "A: 10\n",
      "B: 3\n",
      "5\n",
      "6\n",
      "2\n",
      "12\n",
      "1\n",
      "24\n",
      "30\n"
     ]
    }
   ],
   "source": [
    "a = int(input('A: '))\n",
    "b = int(input('B: '))\n",
    "d = []\n",
    "while a!=1 :\n",
    "    a = a//2\n",
    "    b = b*2\n",
    "    print(a)\n",
    "    print(b)\n",
    "    \n",
    "    if a%2 == 1:\n",
    "        d.append(b)\n",
    "\n",
    "print(sum(d))\n"
   ]
  },
  {
   "cell_type": "markdown",
   "id": "permanent-tampa",
   "metadata": {},
   "source": [
    "# "
   ]
  }
 ],
 "metadata": {
  "kernelspec": {
   "display_name": "Python 3",
   "language": "python",
   "name": "python3"
  },
  "language_info": {
   "codemirror_mode": {
    "name": "ipython",
    "version": 3
   },
   "file_extension": ".py",
   "mimetype": "text/x-python",
   "name": "python",
   "nbconvert_exporter": "python",
   "pygments_lexer": "ipython3",
   "version": "3.9.0"
  }
 },
 "nbformat": 4,
 "nbformat_minor": 5
}
